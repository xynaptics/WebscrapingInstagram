{
 "cells": [
  {
   "cell_type": "markdown",
   "metadata": {},
   "source": [
    "# Web Scraping Instagram with Selenium"
   ]
  },
  {
   "cell_type": "code",
   "execution_count": 1,
   "metadata": {},
   "outputs": [],
   "source": [
    "#imports here\n",
    "from selenium import webdriver\n",
    "from selenium.webdriver.common.keys import Keys\n",
    "from selenium.webdriver.support import expected_conditions as EC\n",
    "from selenium.webdriver.common.by import By\n",
    "from selenium.webdriver.support.wait import WebDriverWait"
   ]
  },
  {
   "cell_type": "markdown",
   "metadata": {},
   "source": [
    "## Download ChromeDriver\n",
    "Now we need to download latest stable release of ChromeDriver from:\n",
    "<br>\n",
    "https://chromedriver.chromium.org/"
   ]
  },
  {
   "cell_type": "code",
   "execution_count": 4,
   "metadata": {},
   "outputs": [
    {
     "name": "stderr",
     "output_type": "stream",
     "text": [
      "C:\\Users\\GOTE0001\\AppData\\Local\\Temp\\ipykernel_13568\\2130053179.py:2: DeprecationWarning: executable_path has been deprecated, please pass in a Service object\n",
      "  driver = webdriver.Chrome('C:/vmfolder/selenium/chromedriver.exe')\n"
     ]
    },
    {
     "ename": "ElementClickInterceptedException",
     "evalue": "Message: element click intercepted: Element <button class=\"sqdOP  L3NKy   y3zKF     \" type=\"submit\">...</button> is not clickable at point (670, 325). Other element would receive the click: <div class=\"             qF0y9          Igw0E     IwRSH      eGOV_       acqo5   _4EzTm   pjcA_                                                                                                           \">...</div>\n  (Session info: chrome=102.0.5005.115)\nStacktrace:\nBacktrace:\n\tOrdinal0 [0x00ECD953+2414931]\n\tOrdinal0 [0x00E5F5E1+1963489]\n\tOrdinal0 [0x00D4C6B8+837304]\n\tOrdinal0 [0x00D7FC27+1047591]\n\tOrdinal0 [0x00D7DC08+1039368]\n\tOrdinal0 [0x00D7B90B+1030411]\n\tOrdinal0 [0x00D7A659+1025625]\n\tOrdinal0 [0x00D70293+983699]\n\tOrdinal0 [0x00D9449C+1131676]\n\tOrdinal0 [0x00D6FC74+982132]\n\tOrdinal0 [0x00D946B4+1132212]\n\tOrdinal0 [0x00DA4812+1198098]\n\tOrdinal0 [0x00D942B6+1131190]\n\tOrdinal0 [0x00D6E860+976992]\n\tOrdinal0 [0x00D6F756+980822]\n\tGetHandleVerifier [0x0113CC62+2510274]\n\tGetHandleVerifier [0x0112F760+2455744]\n\tGetHandleVerifier [0x00F5EABA+551962]\n\tGetHandleVerifier [0x00F5D916+547446]\n\tOrdinal0 [0x00E65F3B+1990459]\n\tOrdinal0 [0x00E6A898+2009240]\n\tOrdinal0 [0x00E6A985+2009477]\n\tOrdinal0 [0x00E73AD1+2046673]\n\tBaseThreadInitThunk [0x75A6FA29+25]\n\tRtlGetAppContainerNamedObjectPath [0x76F57A7E+286]\n\tRtlGetAppContainerNamedObjectPath [0x76F57A4E+238]\n",
     "output_type": "error",
     "traceback": [
      "\u001b[1;31m---------------------------------------------------------------------------\u001b[0m",
      "\u001b[1;31mElementClickInterceptedException\u001b[0m          Traceback (most recent call last)",
      "\u001b[1;32mc:\\Users\\GOTE0001\\OneDrive - PostNord\\Dokument\\SAP\\WebscrapingInstagram\\WebscrapingInstagram_completeNotebook.ipynb Cell 4'\u001b[0m in \u001b[0;36m<cell line: 18>\u001b[1;34m()\u001b[0m\n\u001b[0;32m     <a href='vscode-notebook-cell:/c%3A/Users/GOTE0001/OneDrive%20-%20PostNord/Dokument/SAP/WebscrapingInstagram/WebscrapingInstagram_completeNotebook.ipynb#ch0000003?line=14'>15</a>\u001b[0m password\u001b[39m.\u001b[39msend_keys(\u001b[39m\"\u001b[39m\u001b[39mH3yy0!nstagram\u001b[39m\u001b[39m\"\u001b[39m)\n\u001b[0;32m     <a href='vscode-notebook-cell:/c%3A/Users/GOTE0001/OneDrive%20-%20PostNord/Dokument/SAP/WebscrapingInstagram/WebscrapingInstagram_completeNotebook.ipynb#ch0000003?line=16'>17</a>\u001b[0m \u001b[39m#target the login button and click it\u001b[39;00m\n\u001b[1;32m---> <a href='vscode-notebook-cell:/c%3A/Users/GOTE0001/OneDrive%20-%20PostNord/Dokument/SAP/WebscrapingInstagram/WebscrapingInstagram_completeNotebook.ipynb#ch0000003?line=17'>18</a>\u001b[0m button \u001b[39m=\u001b[39m WebDriverWait(driver, \u001b[39m2\u001b[39;49m)\u001b[39m.\u001b[39;49muntil(EC\u001b[39m.\u001b[39;49melement_to_be_clickable((By\u001b[39m.\u001b[39;49mCSS_SELECTOR, \u001b[39m\"\u001b[39;49m\u001b[39mbutton[type=\u001b[39;49m\u001b[39m'\u001b[39;49m\u001b[39msubmit\u001b[39;49m\u001b[39m'\u001b[39;49m\u001b[39m]\u001b[39;49m\u001b[39m\"\u001b[39;49m)))\u001b[39m.\u001b[39;49mclick()\n",
      "File \u001b[1;32mc:\\vmfolder\\Anaconda3\\envs\\FastAPI_MLOps\\lib\\site-packages\\selenium\\webdriver\\remote\\webelement.py:89\u001b[0m, in \u001b[0;36mWebElement.click\u001b[1;34m(self)\u001b[0m\n\u001b[0;32m     87\u001b[0m \u001b[39mdef\u001b[39;00m \u001b[39mclick\u001b[39m(\u001b[39mself\u001b[39m) \u001b[39m-\u001b[39m\u001b[39m>\u001b[39m \u001b[39mNone\u001b[39;00m:\n\u001b[0;32m     88\u001b[0m     \u001b[39m\"\"\"Clicks the element.\"\"\"\u001b[39;00m\n\u001b[1;32m---> 89\u001b[0m     \u001b[39mself\u001b[39;49m\u001b[39m.\u001b[39;49m_execute(Command\u001b[39m.\u001b[39;49mCLICK_ELEMENT)\n",
      "File \u001b[1;32mc:\\vmfolder\\Anaconda3\\envs\\FastAPI_MLOps\\lib\\site-packages\\selenium\\webdriver\\remote\\webelement.py:773\u001b[0m, in \u001b[0;36mWebElement._execute\u001b[1;34m(self, command, params)\u001b[0m\n\u001b[0;32m    771\u001b[0m     params \u001b[39m=\u001b[39m {}\n\u001b[0;32m    772\u001b[0m params[\u001b[39m'\u001b[39m\u001b[39mid\u001b[39m\u001b[39m'\u001b[39m] \u001b[39m=\u001b[39m \u001b[39mself\u001b[39m\u001b[39m.\u001b[39m_id\n\u001b[1;32m--> 773\u001b[0m \u001b[39mreturn\u001b[39;00m \u001b[39mself\u001b[39;49m\u001b[39m.\u001b[39;49m_parent\u001b[39m.\u001b[39;49mexecute(command, params)\n",
      "File \u001b[1;32mc:\\vmfolder\\Anaconda3\\envs\\FastAPI_MLOps\\lib\\site-packages\\selenium\\webdriver\\remote\\webdriver.py:430\u001b[0m, in \u001b[0;36mWebDriver.execute\u001b[1;34m(self, driver_command, params)\u001b[0m\n\u001b[0;32m    428\u001b[0m response \u001b[39m=\u001b[39m \u001b[39mself\u001b[39m\u001b[39m.\u001b[39mcommand_executor\u001b[39m.\u001b[39mexecute(driver_command, params)\n\u001b[0;32m    429\u001b[0m \u001b[39mif\u001b[39;00m response:\n\u001b[1;32m--> 430\u001b[0m     \u001b[39mself\u001b[39;49m\u001b[39m.\u001b[39;49merror_handler\u001b[39m.\u001b[39;49mcheck_response(response)\n\u001b[0;32m    431\u001b[0m     response[\u001b[39m'\u001b[39m\u001b[39mvalue\u001b[39m\u001b[39m'\u001b[39m] \u001b[39m=\u001b[39m \u001b[39mself\u001b[39m\u001b[39m.\u001b[39m_unwrap_value(\n\u001b[0;32m    432\u001b[0m         response\u001b[39m.\u001b[39mget(\u001b[39m'\u001b[39m\u001b[39mvalue\u001b[39m\u001b[39m'\u001b[39m, \u001b[39mNone\u001b[39;00m))\n\u001b[0;32m    433\u001b[0m     \u001b[39mreturn\u001b[39;00m response\n",
      "File \u001b[1;32mc:\\vmfolder\\Anaconda3\\envs\\FastAPI_MLOps\\lib\\site-packages\\selenium\\webdriver\\remote\\errorhandler.py:247\u001b[0m, in \u001b[0;36mErrorHandler.check_response\u001b[1;34m(self, response)\u001b[0m\n\u001b[0;32m    245\u001b[0m         alert_text \u001b[39m=\u001b[39m value[\u001b[39m'\u001b[39m\u001b[39malert\u001b[39m\u001b[39m'\u001b[39m]\u001b[39m.\u001b[39mget(\u001b[39m'\u001b[39m\u001b[39mtext\u001b[39m\u001b[39m'\u001b[39m)\n\u001b[0;32m    246\u001b[0m     \u001b[39mraise\u001b[39;00m exception_class(message, screen, stacktrace, alert_text)  \u001b[39m# type: ignore[call-arg]  # mypy is not smart enough here\u001b[39;00m\n\u001b[1;32m--> 247\u001b[0m \u001b[39mraise\u001b[39;00m exception_class(message, screen, stacktrace)\n",
      "\u001b[1;31mElementClickInterceptedException\u001b[0m: Message: element click intercepted: Element <button class=\"sqdOP  L3NKy   y3zKF     \" type=\"submit\">...</button> is not clickable at point (670, 325). Other element would receive the click: <div class=\"             qF0y9          Igw0E     IwRSH      eGOV_       acqo5   _4EzTm   pjcA_                                                                                                           \">...</div>\n  (Session info: chrome=102.0.5005.115)\nStacktrace:\nBacktrace:\n\tOrdinal0 [0x00ECD953+2414931]\n\tOrdinal0 [0x00E5F5E1+1963489]\n\tOrdinal0 [0x00D4C6B8+837304]\n\tOrdinal0 [0x00D7FC27+1047591]\n\tOrdinal0 [0x00D7DC08+1039368]\n\tOrdinal0 [0x00D7B90B+1030411]\n\tOrdinal0 [0x00D7A659+1025625]\n\tOrdinal0 [0x00D70293+983699]\n\tOrdinal0 [0x00D9449C+1131676]\n\tOrdinal0 [0x00D6FC74+982132]\n\tOrdinal0 [0x00D946B4+1132212]\n\tOrdinal0 [0x00DA4812+1198098]\n\tOrdinal0 [0x00D942B6+1131190]\n\tOrdinal0 [0x00D6E860+976992]\n\tOrdinal0 [0x00D6F756+980822]\n\tGetHandleVerifier [0x0113CC62+2510274]\n\tGetHandleVerifier [0x0112F760+2455744]\n\tGetHandleVerifier [0x00F5EABA+551962]\n\tGetHandleVerifier [0x00F5D916+547446]\n\tOrdinal0 [0x00E65F3B+1990459]\n\tOrdinal0 [0x00E6A898+2009240]\n\tOrdinal0 [0x00E6A985+2009477]\n\tOrdinal0 [0x00E73AD1+2046673]\n\tBaseThreadInitThunk [0x75A6FA29+25]\n\tRtlGetAppContainerNamedObjectPath [0x76F57A7E+286]\n\tRtlGetAppContainerNamedObjectPath [0x76F57A4E+238]\n"
     ]
    }
   ],
   "source": [
    "#specify the path to chromedriver.exe (download and save on your computer)\n",
    "driver = webdriver.Chrome('C:/vmfolder/selenium/chromedriver.exe')\n",
    "\n",
    "#open the webpage\n",
    "driver.get(\"http://www.instagram.com\")\n",
    "\n",
    "#target username\n",
    "username = WebDriverWait(driver, 10).until(EC.element_to_be_clickable((By.CSS_SELECTOR, \"input[name='username']\")))\n",
    "password = WebDriverWait(driver, 10).until(EC.element_to_be_clickable((By.CSS_SELECTOR, \"input[name='password']\")))\n",
    "\n",
    "#enter username and password\n",
    "username.clear()\n",
    "username.send_keys(\"sky4khan\")\n",
    "password.clear()\n",
    "password.send_keys(\"H3yy0!nstagram\")\n",
    "\n",
    "#target the login button and click it\n",
    "button = WebDriverWait(driver, 2).until(EC.element_to_be_clickable((By.CSS_SELECTOR, \"button[type='submit']\"))).click()\n",
    "\n",
    "#We are logged in!"
   ]
  },
  {
   "cell_type": "code",
   "execution_count": 5,
   "metadata": {},
   "outputs": [
    {
     "ename": "TimeoutException",
     "evalue": "Message: \nStacktrace:\nBacktrace:\n\tOrdinal0 [0x00ECD953+2414931]\n\tOrdinal0 [0x00E5F5E1+1963489]\n\tOrdinal0 [0x00D4C6B8+837304]\n\tOrdinal0 [0x00D79500+1021184]\n\tOrdinal0 [0x00D7979B+1021851]\n\tOrdinal0 [0x00DA6502+1205506]\n\tOrdinal0 [0x00D944E4+1131748]\n\tOrdinal0 [0x00DA4812+1198098]\n\tOrdinal0 [0x00D942B6+1131190]\n\tOrdinal0 [0x00D6E860+976992]\n\tOrdinal0 [0x00D6F756+980822]\n\tGetHandleVerifier [0x0113CC62+2510274]\n\tGetHandleVerifier [0x0112F760+2455744]\n\tGetHandleVerifier [0x00F5EABA+551962]\n\tGetHandleVerifier [0x00F5D916+547446]\n\tOrdinal0 [0x00E65F3B+1990459]\n\tOrdinal0 [0x00E6A898+2009240]\n\tOrdinal0 [0x00E6A985+2009477]\n\tOrdinal0 [0x00E73AD1+2046673]\n\tBaseThreadInitThunk [0x75A6FA29+25]\n\tRtlGetAppContainerNamedObjectPath [0x76F57A7E+286]\n\tRtlGetAppContainerNamedObjectPath [0x76F57A4E+238]\n",
     "output_type": "error",
     "traceback": [
      "\u001b[1;31m---------------------------------------------------------------------------\u001b[0m",
      "\u001b[1;31mTimeoutException\u001b[0m                          Traceback (most recent call last)",
      "\u001b[1;32mc:\\Users\\GOTE0001\\OneDrive - PostNord\\Dokument\\SAP\\WebscrapingInstagram\\WebscrapingInstagram_completeNotebook.ipynb Cell 5'\u001b[0m in \u001b[0;36m<cell line: 2>\u001b[1;34m()\u001b[0m\n\u001b[0;32m      <a href='vscode-notebook-cell:/c%3A/Users/GOTE0001/OneDrive%20-%20PostNord/Dokument/SAP/WebscrapingInstagram/WebscrapingInstagram_completeNotebook.ipynb#ch0000004?line=0'>1</a>\u001b[0m \u001b[39m#nadle NOT NOW\u001b[39;00m\n\u001b[1;32m----> <a href='vscode-notebook-cell:/c%3A/Users/GOTE0001/OneDrive%20-%20PostNord/Dokument/SAP/WebscrapingInstagram/WebscrapingInstagram_completeNotebook.ipynb#ch0000004?line=1'>2</a>\u001b[0m not_now \u001b[39m=\u001b[39m WebDriverWait(driver, \u001b[39m10\u001b[39;49m)\u001b[39m.\u001b[39;49muntil(EC\u001b[39m.\u001b[39;49melement_to_be_clickable((By\u001b[39m.\u001b[39;49mXPATH, \u001b[39m'\u001b[39;49m\u001b[39m//button[contains(text(), \u001b[39;49m\u001b[39m\"\u001b[39;49m\u001b[39mNot Now\u001b[39;49m\u001b[39m\"\u001b[39;49m\u001b[39m)]\u001b[39;49m\u001b[39m'\u001b[39;49m)))\u001b[39m.\u001b[39mclick()\n\u001b[0;32m      <a href='vscode-notebook-cell:/c%3A/Users/GOTE0001/OneDrive%20-%20PostNord/Dokument/SAP/WebscrapingInstagram/WebscrapingInstagram_completeNotebook.ipynb#ch0000004?line=2'>3</a>\u001b[0m not_now2 \u001b[39m=\u001b[39m WebDriverWait(driver, \u001b[39m10\u001b[39m)\u001b[39m.\u001b[39muntil(EC\u001b[39m.\u001b[39melement_to_be_clickable((By\u001b[39m.\u001b[39mXPATH, \u001b[39m'\u001b[39m\u001b[39m//button[contains(text(), \u001b[39m\u001b[39m\"\u001b[39m\u001b[39mNot Now\u001b[39m\u001b[39m\"\u001b[39m\u001b[39m)]\u001b[39m\u001b[39m'\u001b[39m)))\u001b[39m.\u001b[39mclick()\n",
      "File \u001b[1;32mc:\\vmfolder\\Anaconda3\\envs\\FastAPI_MLOps\\lib\\site-packages\\selenium\\webdriver\\support\\wait.py:87\u001b[0m, in \u001b[0;36mWebDriverWait.until\u001b[1;34m(self, method, message)\u001b[0m\n\u001b[0;32m     85\u001b[0m     \u001b[39mif\u001b[39;00m time\u001b[39m.\u001b[39mmonotonic() \u001b[39m>\u001b[39m end_time:\n\u001b[0;32m     86\u001b[0m         \u001b[39mbreak\u001b[39;00m\n\u001b[1;32m---> 87\u001b[0m \u001b[39mraise\u001b[39;00m TimeoutException(message, screen, stacktrace)\n",
      "\u001b[1;31mTimeoutException\u001b[0m: Message: \nStacktrace:\nBacktrace:\n\tOrdinal0 [0x00ECD953+2414931]\n\tOrdinal0 [0x00E5F5E1+1963489]\n\tOrdinal0 [0x00D4C6B8+837304]\n\tOrdinal0 [0x00D79500+1021184]\n\tOrdinal0 [0x00D7979B+1021851]\n\tOrdinal0 [0x00DA6502+1205506]\n\tOrdinal0 [0x00D944E4+1131748]\n\tOrdinal0 [0x00DA4812+1198098]\n\tOrdinal0 [0x00D942B6+1131190]\n\tOrdinal0 [0x00D6E860+976992]\n\tOrdinal0 [0x00D6F756+980822]\n\tGetHandleVerifier [0x0113CC62+2510274]\n\tGetHandleVerifier [0x0112F760+2455744]\n\tGetHandleVerifier [0x00F5EABA+551962]\n\tGetHandleVerifier [0x00F5D916+547446]\n\tOrdinal0 [0x00E65F3B+1990459]\n\tOrdinal0 [0x00E6A898+2009240]\n\tOrdinal0 [0x00E6A985+2009477]\n\tOrdinal0 [0x00E73AD1+2046673]\n\tBaseThreadInitThunk [0x75A6FA29+25]\n\tRtlGetAppContainerNamedObjectPath [0x76F57A7E+286]\n\tRtlGetAppContainerNamedObjectPath [0x76F57A4E+238]\n"
     ]
    }
   ],
   "source": [
    "#nadle NOT NOW\n",
    "not_now = WebDriverWait(driver, 10).until(EC.element_to_be_clickable((By.XPATH, '//button[contains(text(), \"Not Now\")]'))).click()\n",
    "not_now2 = WebDriverWait(driver, 10).until(EC.element_to_be_clickable((By.XPATH, '//button[contains(text(), \"Not Now\")]'))).click()"
   ]
  },
  {
   "cell_type": "markdown",
   "metadata": {},
   "source": [
    "## Search keywords"
   ]
  },
  {
   "cell_type": "code",
   "execution_count": 136,
   "metadata": {},
   "outputs": [],
   "source": [
    "import time\n",
    "\n",
    "#target the search input field\n",
    "searchbox = WebDriverWait(driver, 10).until(EC.element_to_be_clickable((By.XPATH, \"//input[@placeholder='Search']\")))\n",
    "searchbox.clear()\n",
    "\n",
    "#search for the hashtag cat\n",
    "keyword = \"#cat\"\n",
    "searchbox.send_keys(keyword)\n",
    " \n",
    "# Wait for 5 seconds\n",
    "time.sleep(5)\n",
    "searchbox.send_keys(Keys.ENTER)\n",
    "time.sleep(5)\n",
    "searchbox.send_keys(Keys.ENTER)\n",
    "time.sleep(5)"
   ]
  },
  {
   "cell_type": "code",
   "execution_count": null,
   "metadata": {},
   "outputs": [],
   "source": []
  },
  {
   "cell_type": "code",
   "execution_count": 137,
   "metadata": {},
   "outputs": [
    {
     "name": "stdout",
     "output_type": "stream",
     "text": [
      "Number of scraped images:  46\n"
     ]
    }
   ],
   "source": [
    "#scroll down to scrape more images\n",
    "driver.execute_script(\"window.scrollTo(0, 4000);\")\n",
    "\n",
    "#target all images on the page\n",
    "images = driver.find_elements_by_tag_name('img')\n",
    "images = [image.get_attribute('src') for image in images]\n",
    "images = images[:-2]\n",
    "\n",
    "print('Number of scraped images: ', len(images))"
   ]
  },
  {
   "cell_type": "markdown",
   "metadata": {},
   "source": [
    "## Save images to computer\n",
    "\n",
    "First we'll create a new folder for our images somewhere on our computer.\n",
    "<br>\n",
    "Then, we'll save all the images there."
   ]
  },
  {
   "cell_type": "code",
   "execution_count": 138,
   "metadata": {},
   "outputs": [
    {
     "data": {
      "text/plain": [
       "'C:\\\\Users\\\\goaim\\\\cats'"
      ]
     },
     "execution_count": 138,
     "metadata": {},
     "output_type": "execute_result"
    }
   ],
   "source": [
    "import os\n",
    "import wget\n",
    "\n",
    "path = os.getcwd()\n",
    "path = os.path.join(path, keyword[1:] + \"s\")\n",
    "\n",
    "#create the directory\n",
    "os.mkdir(path)\n",
    "\n",
    "path"
   ]
  },
  {
   "cell_type": "code",
   "execution_count": 139,
   "metadata": {},
   "outputs": [
    {
     "name": "stdout",
     "output_type": "stream",
     "text": [
      "100% [..............................................................................] 53506 / 53506"
     ]
    }
   ],
   "source": [
    "#download images\n",
    "counter = 0\n",
    "for image in images:\n",
    "    save_as = os.path.join(path, keyword[1:] + str(counter) + '.jpg')\n",
    "    wget.download(image, save_as)\n",
    "    counter += 1"
   ]
  }
 ],
 "metadata": {
  "kernelspec": {
   "display_name": "Python 3.8.13",
   "language": "python",
   "name": "python3"
  },
  "language_info": {
   "codemirror_mode": {
    "name": "ipython",
    "version": 3
   },
   "file_extension": ".py",
   "mimetype": "text/x-python",
   "name": "python",
   "nbconvert_exporter": "python",
   "pygments_lexer": "ipython3",
   "version": "3.8.13"
  },
  "vscode": {
   "interpreter": {
    "hash": "3afef52ade64cdd7eebbbde3c5e637b91e896bf8e7c6e609312d58a0408556d4"
   }
  }
 },
 "nbformat": 4,
 "nbformat_minor": 4
}
